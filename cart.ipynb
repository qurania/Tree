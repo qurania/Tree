{
 "cells": [
  {
   "cell_type": "markdown",
   "source": [
    "# Load Dataset"
   ],
   "metadata": {}
  },
  {
   "cell_type": "code",
   "execution_count": 5,
   "source": [
    "import numpy as np\r\n",
    "import matplotlib.pyplot as plt \r\n",
    "import pandas as pd  \r\n",
    "from sklearn import tree\r\n",
    "\r\n",
    "from sklearn.datasets import load_boston\r\n",
    "boston_dataset = load_boston()\r\n",
    "\r\n",
    "boston = pd.DataFrame(boston_dataset.data, columns=boston_dataset.feature_names)\r\n",
    "\r\n",
    "boston['MEDV'] = boston_dataset.target\r\n",
    "names = boston_dataset.feature_names\r\n",
    "\r\n",
    "\r\n",
    "#Library CART pada python\r\n",
    "from sklearn.tree import DecisionTreeRegressor \r\n",
    "\r\n",
    "array = boston.values\r\n",
    "\r\n",
    "X = array[:,0:13]\r\n",
    "Y = array[:,13]\r\n",
    "#print(X)\r\n",
    "#print(Y)\r\n",
    "\r\n",
    "from sklearn.model_selection import train_test_split\r\n",
    "X_train, X_test, Y_train, Y_test = train_test_split(X, Y, test_size=0.3, random_state=1234)\r\n",
    "\r\n",
    "#model = DecisionTreeRegressor(max_leaf_nodes = 20)\r\n",
    "\r\n",
    "model = DecisionTreeRegressor(criterion='mse', max_depth=None, max_features=None,\r\n",
    "           max_leaf_nodes=50, min_impurity_decrease=0.0, min_samples_leaf=1,\r\n",
    "           min_samples_split=2, min_weight_fraction_leaf=0.0,\r\n",
    "           random_state=None, splitter='best')"
   ],
   "outputs": [
    {
     "output_type": "stream",
     "name": "stderr",
     "text": [
      "D:\\Otheres\\Python39\\lib\\site-packages\\sklearn\\utils\\deprecation.py:87: FutureWarning: Function load_boston is deprecated; `load_boston` is deprecated in 1.0 and will be removed in 1.2.\n",
      "\n",
      "    The Boston housing prices dataset has an ethical problem. You can refer to\n",
      "    the documentation of this function for further details.\n",
      "\n",
      "    The scikit-learn maintainers therefore strongly discourage the use of this\n",
      "    dataset unless the purpose of the code is to study and educate about\n",
      "    ethical issues in data science and machine learning.\n",
      "\n",
      "    In this case special case, you can fetch the dataset from the original\n",
      "    source::\n",
      "\n",
      "        import pandas as pd\n",
      "        import numpy as np\n",
      "\n",
      "\n",
      "        data_url = \"http://lib.stat.cmu.edu/datasets/boston\"\n",
      "        raw_df = pd.read_csv(data_url, sep=\"\\s+\", skiprows=22, header=None)\n",
      "        data = np.hstack([raw_df.values[::2, :], raw_df.values[1::2, :2]])\n",
      "        target = raw_df.values[1::2, 2]\n",
      "\n",
      "    Alternative datasets include the California housing dataset (i.e.\n",
      "    func:`~sklearn.datasets.fetch_california_housing`) and the Ames housing\n",
      "    dataset. You can load the datasets as follows:\n",
      "\n",
      "        from sklearn.datasets import fetch_california_housing\n",
      "        housing = fetch_california_housing()\n",
      "\n",
      "    for the California housing dataset and:\n",
      "\n",
      "        from sklearn.datasets import fetch_openml\n",
      "        housing = fetch_openml(name=\"house_prices\", as_frame=True)\n",
      "\n",
      "    for the Ames housing dataset.\n",
      "    \n",
      "  warnings.warn(msg, category=FutureWarning)\n"
     ]
    }
   ],
   "metadata": {}
  },
  {
   "cell_type": "markdown",
   "source": [
    "\r\n",
    "# Evaluasi \r\n"
   ],
   "metadata": {}
  },
  {
   "cell_type": "code",
   "execution_count": 6,
   "source": [
    "rt = model.fit(X_train, Y_train)\r\n",
    "rt\r\n",
    "\r\n",
    "import random as rnd\r\n",
    "\r\n",
    "rnd.seed(123458)\r\n",
    "X_new = X[rnd.randrange(X.shape[0])]\r\n",
    "X_new = X_new.reshape(1,13)"
   ],
   "outputs": [
    {
     "output_type": "stream",
     "name": "stderr",
     "text": [
      "D:\\Otheres\\Python39\\lib\\site-packages\\sklearn\\tree\\_classes.py:359: FutureWarning: Criterion 'mse' was deprecated in v1.0 and will be removed in version 1.2. Use `criterion='squared_error'` which is equivalent.\n",
      "  warnings.warn(\n"
     ]
    }
   ],
   "metadata": {}
  },
  {
   "cell_type": "markdown",
   "source": [
    "# Prediksi Model \r\n"
   ],
   "metadata": {}
  },
  {
   "cell_type": "code",
   "execution_count": 7,
   "source": [
    "YHat = model.predict(X_new)\r\n",
    "\r\n",
    "\r\n",
    "df = pd.DataFrame(X_new, columns = names)\r\n",
    "df[\"Predicted Price\"] = YHat\r\n",
    "df.head(1)\r\n",
    "\r\n",
    "from sklearn.metrics import r2_score\r\n",
    "YHat = model.predict(X_test)\r\n",
    "print(YHat)"
   ],
   "outputs": [
    {
     "output_type": "stream",
     "name": "stdout",
     "text": [
      "[35.51       24.26666667 10.38571429 22.35238095 14.02142857 23.71666667\n",
      " 19.83421053 15.43571429 20.575      27.45       15.43571429 22.35238095\n",
      " 22.35238095 18.31666667 17.71111111 23.71666667  8.49285714 16.81428571\n",
      " 19.83421053 10.38571429 37.73333333 23.71666667 19.83421053 16.81428571\n",
      " 27.45       19.77142857 19.83421053 22.46428571 31.52857143 22.83333333\n",
      " 20.575      19.33333333 18.31666667 14.02142857 23.71666667 17.13333333\n",
      " 20.50714286 22.35238095 10.38571429  8.49285714  8.49285714 18.31666667\n",
      " 49.78571429 31.76       19.83421053 25.4375     25.4375     42.3\n",
      " 14.02142857 25.4375     19.83421053 35.51       23.71666667 23.71666667\n",
      " 50.         31.76       10.38571429 31.52857143 25.4375     22.35238095\n",
      " 35.51       15.43571429 29.33333333 37.73333333 10.38571429 22.46428571\n",
      " 35.51       20.50714286 47.36666667 47.36666667 10.95       23.71666667\n",
      " 14.02142857 19.18333333 23.71666667 10.38571429 47.36666667 23.71666667\n",
      " 15.08181818 15.08181818 47.36666667 49.78571429 23.71666667 15.08181818\n",
      " 22.46428571 13.66666667 25.4375     31.52857143 19.77142857 22.46428571\n",
      " 19.33333333 14.26666667 22.46428571 19.18333333 15.08181818 42.3\n",
      " 15.43571429 24.26666667 25.4375     25.4375     19.83421053 19.83421053\n",
      " 19.18333333 29.33333333 15.43571429 47.36666667 10.38571429 10.38571429\n",
      " 31.06666667 19.83421053  8.49285714 25.4375     19.83421053 25.4375\n",
      " 15.08181818 22.46428571 37.73333333 25.4375     15.08181818 47.36666667\n",
      " 22.35238095 14.02142857 18.31666667 35.51       19.83421053 21.9\n",
      " 23.71666667 22.46428571 19.83421053 22.35238095 22.83333333 19.83421053\n",
      " 16.325      10.38571429 19.83421053 13.66666667 16.81428571 35.51\n",
      " 17.13333333 29.33333333 19.83421053 10.38571429 24.26666667 19.83421053\n",
      " 31.52857143 27.45       22.46428571 24.26666667 23.71666667  8.49285714\n",
      " 19.83421053 19.77142857]\n"
     ]
    }
   ],
   "metadata": {}
  },
  {
   "cell_type": "markdown",
   "source": [
    "# Menghitung Rata-rata Kuadrat"
   ],
   "metadata": {}
  },
  {
   "cell_type": "code",
   "execution_count": 8,
   "source": [
    "r2 = r2_score(Y_test, YHat)\r\n",
    "print(\"R-Squared = \", r2)"
   ],
   "outputs": [
    {
     "output_type": "stream",
     "name": "stdout",
     "text": [
      "R-Squared =  0.8228900344445024\n"
     ]
    }
   ],
   "metadata": {}
  },
  {
   "cell_type": "markdown",
   "source": [
    "# Visualisasi"
   ],
   "metadata": {}
  },
  {
   "cell_type": "code",
   "execution_count": 9,
   "source": [
    "tree_representation = tree.plot_tree(rt)"
   ],
   "outputs": [
    {
     "output_type": "display_data",
     "data": {
      "image/png": "[encoded data removed]",
      "text/plain": [
       "<Figure size 432x288 with 1 Axes>"
      ]
     },
     "metadata": {
      "needs_background": "light"
     }
    }
   ],
   "metadata": {}
  }
 ],
 "metadata": {
  "orig_nbformat": 4,
  "language_info": {
   "name": "python",
   "version": "3.9.7",
   "mimetype": "text/x-python",
   "codemirror_mode": {
    "name": "ipython",
    "version": 3
   },
   "pygments_lexer": "ipython3",
   "nbconvert_exporter": "python",
   "file_extension": ".py"
  },
  "kernelspec": {
   "name": "python3",
   "display_name": "Python 3.9.7 64-bit"
  },
  "interpreter": {
   "hash": "127d1cbad06afc5c45df096ea71968a84aa2999882d3fca3a2b14e1b966832a0"
  }
 },
 "nbformat": 4,
 "nbformat_minor": 2
}